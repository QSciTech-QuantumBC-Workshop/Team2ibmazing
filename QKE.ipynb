{
 "cells": [
  {
   "cell_type": "code",
   "execution_count": 4,
   "id": "2de24b84-92ca-41b0-b30a-c4897e108a65",
   "metadata": {},
   "outputs": [],
   "source": [
    "import numpy as np\n",
    "from qiskit import QuantumCircuit, Aer, execute\n",
    "from qiskit.utils import QuantumInstance\n",
    "from qiskit.circuit.library import ZZFeatureMap\n",
    "from qiskit_machine_learning.kernels import QuantumKernel\n",
    "\n",
    "from sklearn.model_selection import train_test_split\n",
    "from sklearn.svm import SVC"
   ]
  },
  {
   "cell_type": "code",
   "execution_count": 3,
   "id": "fab3da77-b756-4ff7-b0a5-fd3030f388bc",
   "metadata": {},
   "outputs": [],
   "source": [
    "num_features = 5\n",
    "\n",
    "encoding_map = ZZFeatureMap(feature_dimension=num_features, reps=1, entanglement='linear')"
   ]
  },
  {
   "cell_type": "code",
   "execution_count": null,
   "id": "45d59907-8730-4b21-ab87-c52d917b88ea",
   "metadata": {},
   "outputs": [],
   "source": []
  },
  {
   "cell_type": "code",
   "execution_count": null,
   "id": "caec17c0-1775-4512-ac4c-f19441cc89c5",
   "metadata": {},
   "outputs": [],
   "source": [
    "simulator = Aer.get_backend('qasm_simulator')\n",
    "shots = 8092\n",
    "quantum_instance = QuantumInstance(simulator, shots)\n",
    "\n",
    "kernel = QuantumKernel(feature_map=encoding_map, quantum_instance=quantum_instance)\n",
    "\n"
   ]
  },
  {
   "cell_type": "code",
   "execution_count": null,
   "id": "9aa52fed-0abe-47db-b2c8-f65b2a04c642",
   "metadata": {},
   "outputs": [],
   "source": [
    "model = SVC(kernel=kernel.evaluate)"
   ]
  }
 ],
 "metadata": {
  "kernelspec": {
   "display_name": "Python 3 (ipykernel)",
   "language": "python",
   "name": "python3"
  },
  "language_info": {
   "codemirror_mode": {
    "name": "ipython",
    "version": 3
   },
   "file_extension": ".py",
   "mimetype": "text/x-python",
   "name": "python",
   "nbconvert_exporter": "python",
   "pygments_lexer": "ipython3",
   "version": "3.9.7"
  }
 },
 "nbformat": 4,
 "nbformat_minor": 5
}
