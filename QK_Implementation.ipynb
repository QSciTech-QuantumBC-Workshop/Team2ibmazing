{
 "cells": [
  {
   "cell_type": "markdown",
   "id": "3343a390-0a5b-427f-b38a-6834adb31e45",
   "metadata": {
    "tags": []
   },
   "source": [
    "# Notebook to Load Data and Perform Dimensionality Reduction using PCA"
   ]
  },
  {
   "cell_type": "markdown",
   "id": "4c83c02a-a0f4-4cc6-9511-a185dd35dc44",
   "metadata": {},
   "source": [
    "## Imports"
   ]
  },
  {
   "cell_type": "code",
   "execution_count": 1,
   "id": "43eb70bc-a7aa-4ead-9c97-1b3c54890ed2",
   "metadata": {},
   "outputs": [
    {
     "name": "stdout",
     "output_type": "stream",
     "text": [
      "Done imports!\n"
     ]
    }
   ],
   "source": [
    "# imports\n",
    "from sklearn.decomposition import PCA\n",
    "from sklearn.model_selection import train_test_split\n",
    "from matplotlib import pyplot as plt\n",
    "import numpy as np\n",
    "import pandas as pd\n",
    "\n",
    "print('Done imports!')"
   ]
  },
  {
   "cell_type": "markdown",
   "id": "f941859f-704e-450a-9885-757f7a5946dd",
   "metadata": {},
   "source": [
    "## Load Data"
   ]
  },
  {
   "cell_type": "code",
   "execution_count": 2,
   "id": "9f7c4a09-9722-42c4-be11-0a5967b0cd90",
   "metadata": {},
   "outputs": [
    {
     "data": {
      "text/html": [
       "<div>\n",
       "<style scoped>\n",
       "    .dataframe tbody tr th:only-of-type {\n",
       "        vertical-align: middle;\n",
       "    }\n",
       "\n",
       "    .dataframe tbody tr th {\n",
       "        vertical-align: top;\n",
       "    }\n",
       "\n",
       "    .dataframe thead th {\n",
       "        text-align: right;\n",
       "    }\n",
       "</style>\n",
       "<table border=\"1\" class=\"dataframe\">\n",
       "  <thead>\n",
       "    <tr style=\"text-align: right;\">\n",
       "      <th></th>\n",
       "      <th>0</th>\n",
       "      <th>1</th>\n",
       "      <th>2</th>\n",
       "      <th>3</th>\n",
       "      <th>4</th>\n",
       "      <th>5</th>\n",
       "      <th>6</th>\n",
       "      <th>7</th>\n",
       "      <th>8</th>\n",
       "      <th>9</th>\n",
       "      <th>...</th>\n",
       "      <th>51</th>\n",
       "      <th>52</th>\n",
       "      <th>53</th>\n",
       "      <th>54</th>\n",
       "      <th>55</th>\n",
       "      <th>56</th>\n",
       "      <th>57</th>\n",
       "      <th>58</th>\n",
       "      <th>59</th>\n",
       "      <th>Rock_or_Mine</th>\n",
       "    </tr>\n",
       "  </thead>\n",
       "  <tbody>\n",
       "    <tr>\n",
       "      <th>0</th>\n",
       "      <td>0.0200</td>\n",
       "      <td>0.0371</td>\n",
       "      <td>0.0428</td>\n",
       "      <td>0.0207</td>\n",
       "      <td>0.0954</td>\n",
       "      <td>0.0986</td>\n",
       "      <td>0.1539</td>\n",
       "      <td>0.1601</td>\n",
       "      <td>0.3109</td>\n",
       "      <td>0.2111</td>\n",
       "      <td>...</td>\n",
       "      <td>0.0027</td>\n",
       "      <td>0.0065</td>\n",
       "      <td>0.0159</td>\n",
       "      <td>0.0072</td>\n",
       "      <td>0.0167</td>\n",
       "      <td>0.0180</td>\n",
       "      <td>0.0084</td>\n",
       "      <td>0.0090</td>\n",
       "      <td>0.0032</td>\n",
       "      <td>0</td>\n",
       "    </tr>\n",
       "    <tr>\n",
       "      <th>1</th>\n",
       "      <td>0.0453</td>\n",
       "      <td>0.0523</td>\n",
       "      <td>0.0843</td>\n",
       "      <td>0.0689</td>\n",
       "      <td>0.1183</td>\n",
       "      <td>0.2583</td>\n",
       "      <td>0.2156</td>\n",
       "      <td>0.3481</td>\n",
       "      <td>0.3337</td>\n",
       "      <td>0.2872</td>\n",
       "      <td>...</td>\n",
       "      <td>0.0084</td>\n",
       "      <td>0.0089</td>\n",
       "      <td>0.0048</td>\n",
       "      <td>0.0094</td>\n",
       "      <td>0.0191</td>\n",
       "      <td>0.0140</td>\n",
       "      <td>0.0049</td>\n",
       "      <td>0.0052</td>\n",
       "      <td>0.0044</td>\n",
       "      <td>0</td>\n",
       "    </tr>\n",
       "    <tr>\n",
       "      <th>2</th>\n",
       "      <td>0.0262</td>\n",
       "      <td>0.0582</td>\n",
       "      <td>0.1099</td>\n",
       "      <td>0.1083</td>\n",
       "      <td>0.0974</td>\n",
       "      <td>0.2280</td>\n",
       "      <td>0.2431</td>\n",
       "      <td>0.3771</td>\n",
       "      <td>0.5598</td>\n",
       "      <td>0.6194</td>\n",
       "      <td>...</td>\n",
       "      <td>0.0232</td>\n",
       "      <td>0.0166</td>\n",
       "      <td>0.0095</td>\n",
       "      <td>0.0180</td>\n",
       "      <td>0.0244</td>\n",
       "      <td>0.0316</td>\n",
       "      <td>0.0164</td>\n",
       "      <td>0.0095</td>\n",
       "      <td>0.0078</td>\n",
       "      <td>0</td>\n",
       "    </tr>\n",
       "    <tr>\n",
       "      <th>3</th>\n",
       "      <td>0.0100</td>\n",
       "      <td>0.0171</td>\n",
       "      <td>0.0623</td>\n",
       "      <td>0.0205</td>\n",
       "      <td>0.0205</td>\n",
       "      <td>0.0368</td>\n",
       "      <td>0.1098</td>\n",
       "      <td>0.1276</td>\n",
       "      <td>0.0598</td>\n",
       "      <td>0.1264</td>\n",
       "      <td>...</td>\n",
       "      <td>0.0121</td>\n",
       "      <td>0.0036</td>\n",
       "      <td>0.0150</td>\n",
       "      <td>0.0085</td>\n",
       "      <td>0.0073</td>\n",
       "      <td>0.0050</td>\n",
       "      <td>0.0044</td>\n",
       "      <td>0.0040</td>\n",
       "      <td>0.0117</td>\n",
       "      <td>0</td>\n",
       "    </tr>\n",
       "    <tr>\n",
       "      <th>4</th>\n",
       "      <td>0.0762</td>\n",
       "      <td>0.0666</td>\n",
       "      <td>0.0481</td>\n",
       "      <td>0.0394</td>\n",
       "      <td>0.0590</td>\n",
       "      <td>0.0649</td>\n",
       "      <td>0.1209</td>\n",
       "      <td>0.2467</td>\n",
       "      <td>0.3564</td>\n",
       "      <td>0.4459</td>\n",
       "      <td>...</td>\n",
       "      <td>0.0031</td>\n",
       "      <td>0.0054</td>\n",
       "      <td>0.0105</td>\n",
       "      <td>0.0110</td>\n",
       "      <td>0.0015</td>\n",
       "      <td>0.0072</td>\n",
       "      <td>0.0048</td>\n",
       "      <td>0.0107</td>\n",
       "      <td>0.0094</td>\n",
       "      <td>0</td>\n",
       "    </tr>\n",
       "    <tr>\n",
       "      <th>...</th>\n",
       "      <td>...</td>\n",
       "      <td>...</td>\n",
       "      <td>...</td>\n",
       "      <td>...</td>\n",
       "      <td>...</td>\n",
       "      <td>...</td>\n",
       "      <td>...</td>\n",
       "      <td>...</td>\n",
       "      <td>...</td>\n",
       "      <td>...</td>\n",
       "      <td>...</td>\n",
       "      <td>...</td>\n",
       "      <td>...</td>\n",
       "      <td>...</td>\n",
       "      <td>...</td>\n",
       "      <td>...</td>\n",
       "      <td>...</td>\n",
       "      <td>...</td>\n",
       "      <td>...</td>\n",
       "      <td>...</td>\n",
       "      <td>...</td>\n",
       "    </tr>\n",
       "    <tr>\n",
       "      <th>203</th>\n",
       "      <td>0.0187</td>\n",
       "      <td>0.0346</td>\n",
       "      <td>0.0168</td>\n",
       "      <td>0.0177</td>\n",
       "      <td>0.0393</td>\n",
       "      <td>0.1630</td>\n",
       "      <td>0.2028</td>\n",
       "      <td>0.1694</td>\n",
       "      <td>0.2328</td>\n",
       "      <td>0.2684</td>\n",
       "      <td>...</td>\n",
       "      <td>0.0116</td>\n",
       "      <td>0.0098</td>\n",
       "      <td>0.0199</td>\n",
       "      <td>0.0033</td>\n",
       "      <td>0.0101</td>\n",
       "      <td>0.0065</td>\n",
       "      <td>0.0115</td>\n",
       "      <td>0.0193</td>\n",
       "      <td>0.0157</td>\n",
       "      <td>1</td>\n",
       "    </tr>\n",
       "    <tr>\n",
       "      <th>204</th>\n",
       "      <td>0.0323</td>\n",
       "      <td>0.0101</td>\n",
       "      <td>0.0298</td>\n",
       "      <td>0.0564</td>\n",
       "      <td>0.0760</td>\n",
       "      <td>0.0958</td>\n",
       "      <td>0.0990</td>\n",
       "      <td>0.1018</td>\n",
       "      <td>0.1030</td>\n",
       "      <td>0.2154</td>\n",
       "      <td>...</td>\n",
       "      <td>0.0061</td>\n",
       "      <td>0.0093</td>\n",
       "      <td>0.0135</td>\n",
       "      <td>0.0063</td>\n",
       "      <td>0.0063</td>\n",
       "      <td>0.0034</td>\n",
       "      <td>0.0032</td>\n",
       "      <td>0.0062</td>\n",
       "      <td>0.0067</td>\n",
       "      <td>1</td>\n",
       "    </tr>\n",
       "    <tr>\n",
       "      <th>205</th>\n",
       "      <td>0.0522</td>\n",
       "      <td>0.0437</td>\n",
       "      <td>0.0180</td>\n",
       "      <td>0.0292</td>\n",
       "      <td>0.0351</td>\n",
       "      <td>0.1171</td>\n",
       "      <td>0.1257</td>\n",
       "      <td>0.1178</td>\n",
       "      <td>0.1258</td>\n",
       "      <td>0.2529</td>\n",
       "      <td>...</td>\n",
       "      <td>0.0160</td>\n",
       "      <td>0.0029</td>\n",
       "      <td>0.0051</td>\n",
       "      <td>0.0062</td>\n",
       "      <td>0.0089</td>\n",
       "      <td>0.0140</td>\n",
       "      <td>0.0138</td>\n",
       "      <td>0.0077</td>\n",
       "      <td>0.0031</td>\n",
       "      <td>1</td>\n",
       "    </tr>\n",
       "    <tr>\n",
       "      <th>206</th>\n",
       "      <td>0.0303</td>\n",
       "      <td>0.0353</td>\n",
       "      <td>0.0490</td>\n",
       "      <td>0.0608</td>\n",
       "      <td>0.0167</td>\n",
       "      <td>0.1354</td>\n",
       "      <td>0.1465</td>\n",
       "      <td>0.1123</td>\n",
       "      <td>0.1945</td>\n",
       "      <td>0.2354</td>\n",
       "      <td>...</td>\n",
       "      <td>0.0086</td>\n",
       "      <td>0.0046</td>\n",
       "      <td>0.0126</td>\n",
       "      <td>0.0036</td>\n",
       "      <td>0.0035</td>\n",
       "      <td>0.0034</td>\n",
       "      <td>0.0079</td>\n",
       "      <td>0.0036</td>\n",
       "      <td>0.0048</td>\n",
       "      <td>1</td>\n",
       "    </tr>\n",
       "    <tr>\n",
       "      <th>207</th>\n",
       "      <td>0.0260</td>\n",
       "      <td>0.0363</td>\n",
       "      <td>0.0136</td>\n",
       "      <td>0.0272</td>\n",
       "      <td>0.0214</td>\n",
       "      <td>0.0338</td>\n",
       "      <td>0.0655</td>\n",
       "      <td>0.1400</td>\n",
       "      <td>0.1843</td>\n",
       "      <td>0.2354</td>\n",
       "      <td>...</td>\n",
       "      <td>0.0146</td>\n",
       "      <td>0.0129</td>\n",
       "      <td>0.0047</td>\n",
       "      <td>0.0039</td>\n",
       "      <td>0.0061</td>\n",
       "      <td>0.0040</td>\n",
       "      <td>0.0036</td>\n",
       "      <td>0.0061</td>\n",
       "      <td>0.0115</td>\n",
       "      <td>1</td>\n",
       "    </tr>\n",
       "  </tbody>\n",
       "</table>\n",
       "<p>208 rows × 61 columns</p>\n",
       "</div>"
      ],
      "text/plain": [
       "          0       1       2       3       4       5       6       7       8  \\\n",
       "0    0.0200  0.0371  0.0428  0.0207  0.0954  0.0986  0.1539  0.1601  0.3109   \n",
       "1    0.0453  0.0523  0.0843  0.0689  0.1183  0.2583  0.2156  0.3481  0.3337   \n",
       "2    0.0262  0.0582  0.1099  0.1083  0.0974  0.2280  0.2431  0.3771  0.5598   \n",
       "3    0.0100  0.0171  0.0623  0.0205  0.0205  0.0368  0.1098  0.1276  0.0598   \n",
       "4    0.0762  0.0666  0.0481  0.0394  0.0590  0.0649  0.1209  0.2467  0.3564   \n",
       "..      ...     ...     ...     ...     ...     ...     ...     ...     ...   \n",
       "203  0.0187  0.0346  0.0168  0.0177  0.0393  0.1630  0.2028  0.1694  0.2328   \n",
       "204  0.0323  0.0101  0.0298  0.0564  0.0760  0.0958  0.0990  0.1018  0.1030   \n",
       "205  0.0522  0.0437  0.0180  0.0292  0.0351  0.1171  0.1257  0.1178  0.1258   \n",
       "206  0.0303  0.0353  0.0490  0.0608  0.0167  0.1354  0.1465  0.1123  0.1945   \n",
       "207  0.0260  0.0363  0.0136  0.0272  0.0214  0.0338  0.0655  0.1400  0.1843   \n",
       "\n",
       "          9  ...      51      52      53      54      55      56      57  \\\n",
       "0    0.2111  ...  0.0027  0.0065  0.0159  0.0072  0.0167  0.0180  0.0084   \n",
       "1    0.2872  ...  0.0084  0.0089  0.0048  0.0094  0.0191  0.0140  0.0049   \n",
       "2    0.6194  ...  0.0232  0.0166  0.0095  0.0180  0.0244  0.0316  0.0164   \n",
       "3    0.1264  ...  0.0121  0.0036  0.0150  0.0085  0.0073  0.0050  0.0044   \n",
       "4    0.4459  ...  0.0031  0.0054  0.0105  0.0110  0.0015  0.0072  0.0048   \n",
       "..      ...  ...     ...     ...     ...     ...     ...     ...     ...   \n",
       "203  0.2684  ...  0.0116  0.0098  0.0199  0.0033  0.0101  0.0065  0.0115   \n",
       "204  0.2154  ...  0.0061  0.0093  0.0135  0.0063  0.0063  0.0034  0.0032   \n",
       "205  0.2529  ...  0.0160  0.0029  0.0051  0.0062  0.0089  0.0140  0.0138   \n",
       "206  0.2354  ...  0.0086  0.0046  0.0126  0.0036  0.0035  0.0034  0.0079   \n",
       "207  0.2354  ...  0.0146  0.0129  0.0047  0.0039  0.0061  0.0040  0.0036   \n",
       "\n",
       "         58      59  Rock_or_Mine  \n",
       "0    0.0090  0.0032             0  \n",
       "1    0.0052  0.0044             0  \n",
       "2    0.0095  0.0078             0  \n",
       "3    0.0040  0.0117             0  \n",
       "4    0.0107  0.0094             0  \n",
       "..      ...     ...           ...  \n",
       "203  0.0193  0.0157             1  \n",
       "204  0.0062  0.0067             1  \n",
       "205  0.0077  0.0031             1  \n",
       "206  0.0036  0.0048             1  \n",
       "207  0.0061  0.0115             1  \n",
       "\n",
       "[208 rows x 61 columns]"
      ]
     },
     "execution_count": 2,
     "metadata": {},
     "output_type": "execute_result"
    }
   ],
   "source": [
    "# create column header names\n",
    "inp_names = list(range(60))\n",
    "names = inp_names + ['Rock_or_Mine']\n",
    "\n",
    "# read in data\n",
    "df = pd.read_csv('sonar.all-data', names=names)\n",
    "\n",
    "# change target to binary\n",
    "df['Rock_or_Mine'] = pd.get_dummies(df.Rock_or_Mine)['M']\n",
    "\n",
    "# show\n",
    "df"
   ]
  },
  {
   "cell_type": "markdown",
   "id": "ba2eb748-7e22-4b13-9438-530b982b7ede",
   "metadata": {},
   "source": [
    "## Perform Principle Component Analysis"
   ]
  },
  {
   "cell_type": "code",
   "execution_count": 3,
   "id": "07ffc7f8-60ed-4186-89eb-c503cb1399e2",
   "metadata": {},
   "outputs": [
    {
     "name": "stdout",
     "output_type": "stream",
     "text": [
      "Done PCA!\n"
     ]
    }
   ],
   "source": [
    "# choose number of components to keep\n",
    "nc = 5\n",
    "\n",
    "# select input and target columns\n",
    "X = df[inp_names].to_numpy()\n",
    "Y = df['Rock_or_Mine'].to_numpy()\n",
    "\n",
    "# inititate PCA\n",
    "pca=PCA(n_components=nc)\n",
    "\n",
    "# fit PCA\n",
    "pca.fit(X)\n",
    "\n",
    "# transform data\n",
    "X_pca = pca.transform(X)\n",
    "\n",
    "print('Done PCA!')"
   ]
  },
  {
   "cell_type": "markdown",
   "id": "9faf888e-cded-4028-86b7-4de0b32419e8",
   "metadata": {
    "tags": []
   },
   "source": [
    "## Split data"
   ]
  },
  {
   "cell_type": "code",
   "execution_count": 4,
   "id": "39f17043-f91e-40bc-8714-72a28e5f2af0",
   "metadata": {},
   "outputs": [],
   "source": [
    "# split into training and validation sets\n",
    "X_tr_pca,X_va_pca,Y_tr,Y_va = train_test_split(X_pca,Y ,test_size=0.25, random_state=10)"
   ]
  },
  {
   "cell_type": "markdown",
   "id": "9cbc45c2-55ae-4d7d-bd69-38943fbfea92",
   "metadata": {},
   "source": [
    "## Show Results of PCA on Training Data"
   ]
  },
  {
   "cell_type": "code",
   "execution_count": 5,
   "id": "cb43ecdc-5473-4c19-a0c2-3f7a4bf5e701",
   "metadata": {
    "scrolled": true
   },
   "outputs": [
    {
     "data": {
      "text/html": [
       "<div>\n",
       "<style scoped>\n",
       "    .dataframe tbody tr th:only-of-type {\n",
       "        vertical-align: middle;\n",
       "    }\n",
       "\n",
       "    .dataframe tbody tr th {\n",
       "        vertical-align: top;\n",
       "    }\n",
       "\n",
       "    .dataframe thead th {\n",
       "        text-align: right;\n",
       "    }\n",
       "</style>\n",
       "<table border=\"1\" class=\"dataframe\">\n",
       "  <thead>\n",
       "    <tr style=\"text-align: right;\">\n",
       "      <th></th>\n",
       "      <th>0</th>\n",
       "      <th>1</th>\n",
       "      <th>2</th>\n",
       "      <th>3</th>\n",
       "      <th>4</th>\n",
       "      <th>Rock_or_Mine</th>\n",
       "    </tr>\n",
       "  </thead>\n",
       "  <tbody>\n",
       "    <tr>\n",
       "      <th>0</th>\n",
       "      <td>0.305125</td>\n",
       "      <td>-0.684253</td>\n",
       "      <td>-0.396862</td>\n",
       "      <td>-0.408220</td>\n",
       "      <td>0.128385</td>\n",
       "      <td>0</td>\n",
       "    </tr>\n",
       "    <tr>\n",
       "      <th>1</th>\n",
       "      <td>-0.183578</td>\n",
       "      <td>-1.011676</td>\n",
       "      <td>0.083793</td>\n",
       "      <td>-0.312129</td>\n",
       "      <td>0.019067</td>\n",
       "      <td>0</td>\n",
       "    </tr>\n",
       "    <tr>\n",
       "      <th>2</th>\n",
       "      <td>-0.332029</td>\n",
       "      <td>-0.402427</td>\n",
       "      <td>-0.224237</td>\n",
       "      <td>0.334385</td>\n",
       "      <td>-0.427055</td>\n",
       "      <td>1</td>\n",
       "    </tr>\n",
       "    <tr>\n",
       "      <th>3</th>\n",
       "      <td>-0.339847</td>\n",
       "      <td>-0.437564</td>\n",
       "      <td>0.319133</td>\n",
       "      <td>0.021548</td>\n",
       "      <td>0.407582</td>\n",
       "      <td>0</td>\n",
       "    </tr>\n",
       "    <tr>\n",
       "      <th>4</th>\n",
       "      <td>-0.845798</td>\n",
       "      <td>0.607152</td>\n",
       "      <td>-0.307585</td>\n",
       "      <td>-0.058369</td>\n",
       "      <td>-0.038992</td>\n",
       "      <td>1</td>\n",
       "    </tr>\n",
       "    <tr>\n",
       "      <th>...</th>\n",
       "      <td>...</td>\n",
       "      <td>...</td>\n",
       "      <td>...</td>\n",
       "      <td>...</td>\n",
       "      <td>...</td>\n",
       "      <td>...</td>\n",
       "    </tr>\n",
       "    <tr>\n",
       "      <th>151</th>\n",
       "      <td>0.423281</td>\n",
       "      <td>0.053140</td>\n",
       "      <td>0.015598</td>\n",
       "      <td>-0.127669</td>\n",
       "      <td>0.032706</td>\n",
       "      <td>0</td>\n",
       "    </tr>\n",
       "    <tr>\n",
       "      <th>152</th>\n",
       "      <td>-0.531163</td>\n",
       "      <td>-0.832419</td>\n",
       "      <td>-0.106281</td>\n",
       "      <td>0.133538</td>\n",
       "      <td>-0.228892</td>\n",
       "      <td>1</td>\n",
       "    </tr>\n",
       "    <tr>\n",
       "      <th>153</th>\n",
       "      <td>-0.897415</td>\n",
       "      <td>-0.489396</td>\n",
       "      <td>-0.062722</td>\n",
       "      <td>0.220483</td>\n",
       "      <td>0.096869</td>\n",
       "      <td>1</td>\n",
       "    </tr>\n",
       "    <tr>\n",
       "      <th>154</th>\n",
       "      <td>-0.971683</td>\n",
       "      <td>-0.054864</td>\n",
       "      <td>0.167029</td>\n",
       "      <td>0.163819</td>\n",
       "      <td>0.147525</td>\n",
       "      <td>1</td>\n",
       "    </tr>\n",
       "    <tr>\n",
       "      <th>155</th>\n",
       "      <td>0.051612</td>\n",
       "      <td>0.192797</td>\n",
       "      <td>-0.000973</td>\n",
       "      <td>-0.411552</td>\n",
       "      <td>-0.479523</td>\n",
       "      <td>0</td>\n",
       "    </tr>\n",
       "  </tbody>\n",
       "</table>\n",
       "<p>156 rows × 6 columns</p>\n",
       "</div>"
      ],
      "text/plain": [
       "            0         1         2         3         4  Rock_or_Mine\n",
       "0    0.305125 -0.684253 -0.396862 -0.408220  0.128385             0\n",
       "1   -0.183578 -1.011676  0.083793 -0.312129  0.019067             0\n",
       "2   -0.332029 -0.402427 -0.224237  0.334385 -0.427055             1\n",
       "3   -0.339847 -0.437564  0.319133  0.021548  0.407582             0\n",
       "4   -0.845798  0.607152 -0.307585 -0.058369 -0.038992             1\n",
       "..        ...       ...       ...       ...       ...           ...\n",
       "151  0.423281  0.053140  0.015598 -0.127669  0.032706             0\n",
       "152 -0.531163 -0.832419 -0.106281  0.133538 -0.228892             1\n",
       "153 -0.897415 -0.489396 -0.062722  0.220483  0.096869             1\n",
       "154 -0.971683 -0.054864  0.167029  0.163819  0.147525             1\n",
       "155  0.051612  0.192797 -0.000973 -0.411552 -0.479523             0\n",
       "\n",
       "[156 rows x 6 columns]"
      ]
     },
     "execution_count": 5,
     "metadata": {},
     "output_type": "execute_result"
    }
   ],
   "source": [
    "# load pca input training data into data frame\n",
    "df_tr_pca = pd.DataFrame(data=X_tr_pca, columns=list(range(nc)))\n",
    "\n",
    "# add targets traininfg data\n",
    "df_tr_pca['Rock_or_Mine'] = Y_tr\n",
    "\n",
    "# show\n",
    "df_tr_pca "
   ]
  },
  {
   "cell_type": "markdown",
   "id": "3f3d5110",
   "metadata": {},
   "source": [
    "## Quantum Kernel Machine"
   ]
  },
  {
   "cell_type": "code",
   "execution_count": 6,
   "id": "ab094713",
   "metadata": {},
   "outputs": [],
   "source": [
    "import math\n",
    "import numpy as np \n",
    "import matplotlib.pyplot as plt\n",
    "import pylab as pl\n",
    "\n",
    "\n",
    "#ScikitLearn Imports\n",
    "from sklearn import datasets\n",
    "from sklearn.model_selection import train_test_split\n",
    "from skimage.transform import resize\n",
    "from sklearn.svm import SVC \n",
    "\n",
    "#Qiskit imports\n",
    "from qiskit import QuantumCircuit, Aer,QuantumRegister, ClassicalRegister, execute, IBMQ\n",
    "from qiskit.circuit import ParameterVector,Parameter\n",
    "from qiskit.utils import QuantumInstance\n",
    "from qiskit.circuit.library import ZFeatureMap, ZZFeatureMap, PauliFeatureMap\n",
    "from qiskit_machine_learning.circuit.library import RawFeatureVector\n",
    "from qiskit_machine_learning.kernels import QuantumKernel\n"
   ]
  },
  {
   "cell_type": "code",
   "execution_count": 7,
   "id": "c425d9c6",
   "metadata": {},
   "outputs": [],
   "source": [
    "simulator = Aer.get_backend('qasm_simulator')\n",
    "SEED = 102855\n",
    "shots = 8092\n",
    "qinst = QuantumInstance(simulator, shots, SEED)"
   ]
  },
  {
   "cell_type": "code",
   "execution_count": 8,
   "id": "32e9d124",
   "metadata": {
    "scrolled": true
   },
   "outputs": [],
   "source": [
    "map_z = ZZFeatureMap(feature_dimension=5, reps=3, entanglement= \"linear\")"
   ]
  },
  {
   "cell_type": "code",
   "execution_count": 9,
   "id": "bd4435ea",
   "metadata": {},
   "outputs": [],
   "source": [
    "z_kernel = QuantumKernel(feature_map=map_z, quantum_instance=qinst)"
   ]
  },
  {
   "cell_type": "code",
   "execution_count": 10,
   "id": "958a299c",
   "metadata": {},
   "outputs": [
    {
     "name": "stderr",
     "output_type": "stream",
     "text": [
      "/opt/homebrew/lib/python3.9/site-packages/numpy/linalg/linalg.py:2146: RuntimeWarning: divide by zero encountered in det\n",
      "  r = _umath_linalg.det(a, signature=signature)\n",
      "/opt/homebrew/lib/python3.9/site-packages/numpy/linalg/linalg.py:2146: RuntimeWarning: invalid value encountered in det\n",
      "  r = _umath_linalg.det(a, signature=signature)\n"
     ]
    },
    {
     "data": {
      "image/png": "[encoded data removed]",
      "text/plain": [
       "<Figure size 720x360 with 1 Axes>"
      ]
     },
     "metadata": {
      "needs_background": "light"
     },
     "output_type": "display_data"
    }
   ],
   "source": [
    "train_matrix= z_kernel.evaluate(x_vec=X_tr_pca)\n",
    "test_matrix = z_kernel.evaluate(x_vec=X_va_pca, y_vec=X_tr_pca)\n",
    "\n",
    "fig, axs = plt.subplots(1, figsize=(10, 5))\n",
    "axs.imshow(\n",
    "    np.asmatrix(train_matrix), interpolation=\"nearest\", origin=\"upper\", cmap=\"Blues\"\n",
    ")\n",
    "axs.set_title(\"Train kernel matrix\")\n",
    "plt.show()"
   ]
  },
  {
   "cell_type": "code",
   "execution_count": 11,
   "id": "9d87dcee",
   "metadata": {},
   "outputs": [
    {
     "name": "stderr",
     "output_type": "stream",
     "text": [
      "/opt/homebrew/lib/python3.9/site-packages/numpy/linalg/linalg.py:2146: RuntimeWarning: divide by zero encountered in det\n",
      "  r = _umath_linalg.det(a, signature=signature)\n",
      "/opt/homebrew/lib/python3.9/site-packages/numpy/linalg/linalg.py:2146: RuntimeWarning: invalid value encountered in det\n",
      "  r = _umath_linalg.det(a, signature=signature)\n"
     ]
    },
    {
     "data": {
      "text/plain": [
       "SVC(kernel=<bound method QuantumKernel.evaluate of <qiskit_machine_learning.kernels.quantum_kernel.QuantumKernel object at 0x1625b0fa0>>)"
      ]
     },
     "execution_count": 11,
     "metadata": {},
     "output_type": "execute_result"
    }
   ],
   "source": [
    "model = SVC(kernel= z_kernel.evaluate)\n",
    "model.fit(X_tr_pca, Y_tr)"
   ]
  },
  {
   "cell_type": "code",
   "execution_count": 12,
   "id": "3a32132b",
   "metadata": {},
   "outputs": [
    {
     "name": "stdout",
     "output_type": "stream",
     "text": [
      "Callable kernel classification test score: 0.6153846153846154\n"
     ]
    }
   ],
   "source": [
    "score = model.score(X_va_pca, Y_va)\n",
    "print(f'Callable kernel classification test score: {score}')"
   ]
  },
  {
   "cell_type": "markdown",
   "id": "644433e6",
   "metadata": {},
   "source": [
    "### With Autoencoder data"
   ]
  },
  {
   "cell_type": "code",
   "execution_count": 13,
   "id": "830448a4",
   "metadata": {
    "scrolled": true
   },
   "outputs": [
    {
     "data": {
      "text/html": [
       "<div>\n",
       "<style scoped>\n",
       "    .dataframe tbody tr th:only-of-type {\n",
       "        vertical-align: middle;\n",
       "    }\n",
       "\n",
       "    .dataframe tbody tr th {\n",
       "        vertical-align: top;\n",
       "    }\n",
       "\n",
       "    .dataframe thead th {\n",
       "        text-align: right;\n",
       "    }\n",
       "</style>\n",
       "<table border=\"1\" class=\"dataframe\">\n",
       "  <thead>\n",
       "    <tr style=\"text-align: right;\">\n",
       "      <th></th>\n",
       "      <th>0</th>\n",
       "      <th>1</th>\n",
       "      <th>2</th>\n",
       "      <th>3</th>\n",
       "      <th>4</th>\n",
       "      <th>5</th>\n",
       "    </tr>\n",
       "  </thead>\n",
       "  <tbody>\n",
       "    <tr>\n",
       "      <th>0</th>\n",
       "      <td>2.788435</td>\n",
       "      <td>2.103543</td>\n",
       "      <td>0.426437</td>\n",
       "      <td>0.581858</td>\n",
       "      <td>2.396140</td>\n",
       "      <td>R</td>\n",
       "    </tr>\n",
       "    <tr>\n",
       "      <th>1</th>\n",
       "      <td>-1.307888</td>\n",
       "      <td>-2.164024</td>\n",
       "      <td>-1.066672</td>\n",
       "      <td>-1.517550</td>\n",
       "      <td>0.061261</td>\n",
       "      <td>R</td>\n",
       "    </tr>\n",
       "    <tr>\n",
       "      <th>2</th>\n",
       "      <td>-1.298477</td>\n",
       "      <td>-2.415981</td>\n",
       "      <td>-3.042823</td>\n",
       "      <td>-2.050905</td>\n",
       "      <td>-0.316739</td>\n",
       "      <td>R</td>\n",
       "    </tr>\n",
       "    <tr>\n",
       "      <th>3</th>\n",
       "      <td>0.395220</td>\n",
       "      <td>-0.696221</td>\n",
       "      <td>-4.280332</td>\n",
       "      <td>-0.840407</td>\n",
       "      <td>-0.300237</td>\n",
       "      <td>R</td>\n",
       "    </tr>\n",
       "    <tr>\n",
       "      <th>4</th>\n",
       "      <td>0.369320</td>\n",
       "      <td>0.290131</td>\n",
       "      <td>-1.010054</td>\n",
       "      <td>-0.369055</td>\n",
       "      <td>-0.462238</td>\n",
       "      <td>R</td>\n",
       "    </tr>\n",
       "    <tr>\n",
       "      <th>...</th>\n",
       "      <td>...</td>\n",
       "      <td>...</td>\n",
       "      <td>...</td>\n",
       "      <td>...</td>\n",
       "      <td>...</td>\n",
       "      <td>...</td>\n",
       "    </tr>\n",
       "    <tr>\n",
       "      <th>203</th>\n",
       "      <td>4.255006</td>\n",
       "      <td>-11.108311</td>\n",
       "      <td>12.098848</td>\n",
       "      <td>-7.865163</td>\n",
       "      <td>2.242853</td>\n",
       "      <td>M</td>\n",
       "    </tr>\n",
       "    <tr>\n",
       "      <th>204</th>\n",
       "      <td>4.755203</td>\n",
       "      <td>-12.442458</td>\n",
       "      <td>14.157688</td>\n",
       "      <td>-8.750379</td>\n",
       "      <td>3.495333</td>\n",
       "      <td>M</td>\n",
       "    </tr>\n",
       "    <tr>\n",
       "      <th>205</th>\n",
       "      <td>5.660632</td>\n",
       "      <td>-13.285556</td>\n",
       "      <td>14.795799</td>\n",
       "      <td>-9.541072</td>\n",
       "      <td>3.525391</td>\n",
       "      <td>M</td>\n",
       "    </tr>\n",
       "    <tr>\n",
       "      <th>206</th>\n",
       "      <td>-0.430536</td>\n",
       "      <td>-7.141647</td>\n",
       "      <td>9.218877</td>\n",
       "      <td>-3.829817</td>\n",
       "      <td>2.128929</td>\n",
       "      <td>M</td>\n",
       "    </tr>\n",
       "    <tr>\n",
       "      <th>207</th>\n",
       "      <td>-1.455505</td>\n",
       "      <td>-5.299509</td>\n",
       "      <td>7.569422</td>\n",
       "      <td>-2.300598</td>\n",
       "      <td>2.236727</td>\n",
       "      <td>M</td>\n",
       "    </tr>\n",
       "  </tbody>\n",
       "</table>\n",
       "<p>208 rows × 6 columns</p>\n",
       "</div>"
      ],
      "text/plain": [
       "            0          1          2         3         4  5\n",
       "0    2.788435   2.103543   0.426437  0.581858  2.396140  R\n",
       "1   -1.307888  -2.164024  -1.066672 -1.517550  0.061261  R\n",
       "2   -1.298477  -2.415981  -3.042823 -2.050905 -0.316739  R\n",
       "3    0.395220  -0.696221  -4.280332 -0.840407 -0.300237  R\n",
       "4    0.369320   0.290131  -1.010054 -0.369055 -0.462238  R\n",
       "..        ...        ...        ...       ...       ... ..\n",
       "203  4.255006 -11.108311  12.098848 -7.865163  2.242853  M\n",
       "204  4.755203 -12.442458  14.157688 -8.750379  3.495333  M\n",
       "205  5.660632 -13.285556  14.795799 -9.541072  3.525391  M\n",
       "206 -0.430536  -7.141647   9.218877 -3.829817  2.128929  M\n",
       "207 -1.455505  -5.299509   7.569422 -2.300598  2.236727  M\n",
       "\n",
       "[208 rows x 6 columns]"
      ]
     },
     "execution_count": 13,
     "metadata": {},
     "output_type": "execute_result"
    }
   ],
   "source": [
    "df = pd.read_csv('AE-compressed-data.csv', index_col=0)\n",
    "df"
   ]
  },
  {
   "cell_type": "code",
   "execution_count": 14,
   "id": "22d2c381",
   "metadata": {},
   "outputs": [],
   "source": [
    "\n",
    "X = df[['0','1','2','3','4']].to_numpy()\n",
    "Y = df['5'].to_numpy()\n",
    "X_tr,X_va,Y_tr,Y_va = train_test_split(X,Y ,test_size=0.25, random_state=10)"
   ]
  },
  {
   "cell_type": "code",
   "execution_count": 15,
   "id": "aeea6aa6",
   "metadata": {},
   "outputs": [],
   "source": [
    "ae_map_z = ZZFeatureMap(feature_dimension=5, reps=3, entanglement= \"linear\")"
   ]
  },
  {
   "cell_type": "code",
   "execution_count": 16,
   "id": "0f1c3d8b",
   "metadata": {},
   "outputs": [],
   "source": [
    "ae_z_kernel = QuantumKernel(feature_map=ae_map_z, quantum_instance=qinst)"
   ]
  },
  {
   "cell_type": "code",
   "execution_count": 17,
   "id": "beb3b415",
   "metadata": {},
   "outputs": [
    {
     "name": "stderr",
     "output_type": "stream",
     "text": [
      "/opt/homebrew/lib/python3.9/site-packages/numpy/linalg/linalg.py:2146: RuntimeWarning: divide by zero encountered in det\n",
      "  r = _umath_linalg.det(a, signature=signature)\n",
      "/opt/homebrew/lib/python3.9/site-packages/numpy/linalg/linalg.py:2146: RuntimeWarning: invalid value encountered in det\n",
      "  r = _umath_linalg.det(a, signature=signature)\n"
     ]
    },
    {
     "data": {
      "image/png": "[encoded data removed]",
      "text/plain": [
       "<Figure size 720x360 with 1 Axes>"
      ]
     },
     "metadata": {
      "needs_background": "light"
     },
     "output_type": "display_data"
    }
   ],
   "source": [
    "train_matrix_ae= ae_z_kernel.evaluate(x_vec=X_tr)\n",
    "test_matrix_ae = ae_z_kernel.evaluate(x_vec=X_va, y_vec=X_tr)\n",
    "\n",
    "fig, axs = plt.subplots(1, figsize=(10, 5))\n",
    "axs.imshow(\n",
    "    np.asmatrix(train_matrix_ae), interpolation=\"nearest\", origin=\"upper\", cmap=\"Blues\"\n",
    ")\n",
    "axs.set_title(\"Train kernel matrix\")\n",
    "plt.show()"
   ]
  },
  {
   "cell_type": "code",
   "execution_count": 18,
   "id": "4b51181c",
   "metadata": {},
   "outputs": [
    {
     "name": "stderr",
     "output_type": "stream",
     "text": [
      "/opt/homebrew/lib/python3.9/site-packages/numpy/linalg/linalg.py:2146: RuntimeWarning: divide by zero encountered in det\n",
      "  r = _umath_linalg.det(a, signature=signature)\n",
      "/opt/homebrew/lib/python3.9/site-packages/numpy/linalg/linalg.py:2146: RuntimeWarning: invalid value encountered in det\n",
      "  r = _umath_linalg.det(a, signature=signature)\n"
     ]
    },
    {
     "data": {
      "text/plain": [
       "SVC(kernel=<bound method QuantumKernel.evaluate of <qiskit_machine_learning.kernels.quantum_kernel.QuantumKernel object at 0x15dbeb070>>)"
      ]
     },
     "execution_count": 18,
     "metadata": {},
     "output_type": "execute_result"
    }
   ],
   "source": [
    "model_ae = SVC(kernel= ae_z_kernel.evaluate)\n",
    "model_ae.fit(X_tr, Y_tr)"
   ]
  },
  {
   "cell_type": "code",
   "execution_count": 19,
   "id": "1d230ee9",
   "metadata": {},
   "outputs": [
    {
     "name": "stdout",
     "output_type": "stream",
     "text": [
      "Callable kernel classification test score: 0.5576923076923077\n"
     ]
    }
   ],
   "source": [
    "score = model_ae.score(X_va, Y_va)\n",
    "print(f'Callable kernel classification test score: {score}')"
   ]
  },
  {
   "cell_type": "code",
   "execution_count": null,
   "id": "50445cfc",
   "metadata": {},
   "outputs": [],
   "source": []
  }
 ],
 "metadata": {
  "kernelspec": {
   "display_name": "Python 3 (ipykernel)",
   "language": "python",
   "name": "python3"
  },
  "language_info": {
   "codemirror_mode": {
    "name": "ipython",
    "version": 3
   },
   "file_extension": ".py",
   "mimetype": "text/x-python",
   "name": "python",
   "nbconvert_exporter": "python",
   "pygments_lexer": "ipython3",
   "version": "3.9.9"
  }
 },
 "nbformat": 4,
 "nbformat_minor": 5
}
