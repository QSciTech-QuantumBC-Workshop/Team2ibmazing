{
 "cells": [
  {
   "cell_type": "markdown",
   "id": "4a734623-2712-435b-9676-1facb840a695",
   "metadata": {},
   "source": [
    "# Process Documentation\n",
    "## Brainstorm \n",
    "**Constraints** \n",
    "* Classification problem\n",
    "* Low dimensionality\n",
    "\n",
    "**Ideas** \\\n",
    "Datasets\n",
    "* Water phase diagram - inputs = pressure and temperature, outputs = solid, liquid, or gas\n",
    "* Crystal structures\n",
    "    * Too complex\n",
    "* Permeability of ground\n",
    "    * Regression not classification\n",
    "* Sonar data - inputs = sonar data from different angles, outputs = mine or rock\n",
    "    * Use PCA to construct smaller vector\n",
    "    * Available at: https://archive.ics.uci.edu/ml/datasets/Connectionist+Bench+(Sonar,+Mines+vs.+Rocks)\n",
    "\n",
    "Additional Consideration  \n",
    "* Does re-uploading the data improve the algorithm?\n",
    "* What is the best way to reducing the dimension of the input?\n",
    "* How do the different classication algorithms compare?\n",
    "\n",
    "*Updated January 31st in team meeting*"
   ]
  },
  {
   "cell_type": "markdown",
   "id": "3bba4b1a-9104-48ac-9490-bc44175273ba",
   "metadata": {},
   "source": [
    "## Coding\n",
    " \n",
    "* We all made sure we could download the data and read it into a Jupyter notebook\n",
    "* Emily wrote a notebook to do PCA\n",
    "* Zoe wrote a notebook to do auto-encoding\n",
    "* We compared the reconstruction from PCA and auto-encoding - at the outset, PCA looks more effective\n",
    "\n",
    "Should the compression be fitted only on the training data and then applied to the validation set or should the compression be fitted on all the data?"
   ]
  }
 ],
 "metadata": {
  "kernelspec": {
   "display_name": "Python 3 (ipykernel)",
   "language": "python",
   "name": "python3"
  },
  "language_info": {
   "codemirror_mode": {
    "name": "ipython",
    "version": 3
   },
   "file_extension": ".py",
   "mimetype": "text/x-python",
   "name": "python",
   "nbconvert_exporter": "python",
   "pygments_lexer": "ipython3",
   "version": "3.9.9"
  }
 },
 "nbformat": 4,
 "nbformat_minor": 5
}
